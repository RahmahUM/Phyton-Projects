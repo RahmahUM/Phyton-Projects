{
 "cells": [
  {
   "cell_type": "code",
   "execution_count": 3,
   "id": "8dcbba70",
   "metadata": {},
   "outputs": [
    {
     "name": "stdout",
     "output_type": "stream",
     "text": [
      "Enter the librarian's name: Eden Hazard\n",
      "Enter the book titles (comma-separated): Am I Real?\n",
      "Enter the checkout duration (press Enter for default '2 weeks'): 3 weeks\n",
      "Enter additional information (key1=value1, key2=value2, ...): late_fee=2.50\n",
      "\n",
      "Checkout Details:\n"
     ]
    },
    {
     "ename": "TypeError",
     "evalue": "checkout_books() got an unexpected keyword argument 'duration'",
     "output_type": "error",
     "traceback": [
      "\u001b[1;31m---------------------------------------------------------------------------\u001b[0m",
      "\u001b[1;31mTypeError\u001b[0m                                 Traceback (most recent call last)",
      "Cell \u001b[1;32mIn[3], line 23\u001b[0m\n\u001b[0;32m     20\u001b[0m     checkout_books(librarian_name, \u001b[38;5;241m*\u001b[39mbook_titles, duration\u001b[38;5;241m=\u001b[39mduration, \u001b[38;5;241m*\u001b[39m\u001b[38;5;241m*\u001b[39mkwargs)\n\u001b[0;32m     22\u001b[0m \u001b[38;5;66;03m# Example usage:\u001b[39;00m\n\u001b[1;32m---> 23\u001b[0m checkout_books()\n",
      "Cell \u001b[1;32mIn[3], line 20\u001b[0m, in \u001b[0;36mcheckout_books\u001b[1;34m()\u001b[0m\n\u001b[0;32m     17\u001b[0m         kwargs[key] \u001b[38;5;241m=\u001b[39m value\n\u001b[0;32m     19\u001b[0m \u001b[38;5;28mprint\u001b[39m(\u001b[38;5;124m\"\u001b[39m\u001b[38;5;130;01m\\n\u001b[39;00m\u001b[38;5;124mCheckout Details:\u001b[39m\u001b[38;5;124m\"\u001b[39m)\n\u001b[1;32m---> 20\u001b[0m checkout_books(librarian_name, \u001b[38;5;241m*\u001b[39mbook_titles, duration\u001b[38;5;241m=\u001b[39mduration, \u001b[38;5;241m*\u001b[39m\u001b[38;5;241m*\u001b[39mkwargs)\n",
      "\u001b[1;31mTypeError\u001b[0m: checkout_books() got an unexpected keyword argument 'duration'"
     ]
    }
   ],
   "source": [
    "def checkout_books():\n",
    "    librarian_name = input(\"Enter the librarian's name: \")\n",
    "\n",
    "    # Allowing the user to enter multiple book titles separated by commas\n",
    "    book_titles_input = input(\"Enter the book titles (comma-separated): \")\n",
    "    book_titles = [title.strip() for title in book_titles_input.split(',')]\n",
    "\n",
    "    duration = input(\"Enter the checkout duration (press Enter for default '2 weeks'): \")\n",
    "    duration = duration if duration else '2 weeks'\n",
    "\n",
    "    # Allowing the user to input additional information using key-value pairs\n",
    "    kwargs = {}\n",
    "    additional_info_input = input(\"Enter additional information (key1=value1, key2=value2, ...): \")\n",
    "    if additional_info_input:\n",
    "        for pair in additional_info_input.split(','):\n",
    "            key, value = pair.strip().split('=')\n",
    "            kwargs[key] = value\n",
    "\n",
    "    print(\"\\nCheckout Details:\")\n",
    "    checkout_books(librarian_name, *book_titles, duration=duration, **kwargs)\n",
    "\n",
    "# Example usage:\n",
    "checkout_books()\n"
   ]
  },
  {
   "cell_type": "code",
   "execution_count": null,
   "id": "f9c13883",
   "metadata": {},
   "outputs": [],
   "source": [
    "def process_checkout(librarian_name, *book_titles, duration='2 weeks', **kwargs):\n",
    "    \"\"\"\n",
    "    Manage book checkouts at a library.\n",
    "\n",
    "    Parameters:\n",
    "    - librarian_name: str, required, the name of the librarian processing the checkout.\n",
    "    - book_titles: one or more strings, representing the books being checked out.\n",
    "    - duration: str, optional, default is '2 weeks', representing the standard checkout duration.\n",
    "    - **kwargs: additional information about the checkout, such as late_fee per day or special_conditions.\n",
    "\n",
    "    Returns:\n",
    "    - None\n",
    "    \"\"\"\n",
    "    print(f\"\\nCheckout processed by {librarian_name}.\")\n",
    "\n",
    "    if book_titles:\n",
    "        print(\"Books checked out:\")\n",
    "        for book_title in book_titles:\n",
    "            print(f\"- {book_title}\")\n",
    "\n",
    "    print(f\"Checkout duration: {duration}\")\n",
    "\n",
    "    if kwargs:\n",
    "        print(\"Additional Information:\")\n",
    "        for key, value in kwargs.items():\n",
    "            print(f\"- {key}: {value}\")\n",
    "\n",
    "# Function to take user input and call the original process_checkout function\n",
    "def checkout_books():\n",
    "    librarian_name = input(\"Enter the librarian's name: \")\n",
    "\n",
    "    # Allowing the user to enter multiple book titles separated by commas\n",
    "    book_titles_input = input(\"Enter the book titles (comma-separated): \")\n",
    "    book_titles = [title.strip() for title in book_titles_input.split(',')]\n",
    "\n",
    "    duration = input(\"Enter the checkout duration (press Enter for default '2 weeks'): \")\n",
    "    duration = duration if duration else '2 weeks'\n",
    "\n",
    "    # Allowing the user to input additional information using key-value pairs\n",
    "    kwargs = {}\n",
    "    additional_info_input = input(\"Enter additional information (key1=value1, key2=value2, ...): \")\n",
    "    if additional_info_input:\n",
    "        for pair in additional_info_input.split(','):\n",
    "            key, value = pair.strip().split('=')\n",
    "            kwargs[key] = value\n",
    "\n",
    "    print(\"\\nCheckout Details:\")\n",
    "    process_checkout(librarian_name, *book_titles, duration=duration, **kwargs)\n",
    "\n",
    "# Example usage:\n",
    "checkout_books()\n"
   ]
  },
  {
   "cell_type": "code",
   "execution_count": null,
   "id": "37ebd6fc",
   "metadata": {},
   "outputs": [],
   "source": []
  }
 ],
 "metadata": {
  "kernelspec": {
   "display_name": "Python 3 (ipykernel)",
   "language": "python",
   "name": "python3"
  },
  "language_info": {
   "codemirror_mode": {
    "name": "ipython",
    "version": 3
   },
   "file_extension": ".py",
   "mimetype": "text/x-python",
   "name": "python",
   "nbconvert_exporter": "python",
   "pygments_lexer": "ipython3",
   "version": "3.11.5"
  }
 },
 "nbformat": 4,
 "nbformat_minor": 5
}
