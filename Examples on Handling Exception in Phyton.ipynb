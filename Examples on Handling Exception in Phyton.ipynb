{
 "cells": [
  {
   "cell_type": "code",
   "execution_count": 1,
   "id": "47ad536a",
   "metadata": {},
   "outputs": [
    {
     "name": "stdout",
     "output_type": "stream",
     "text": [
      "The data that you input is not int\n"
     ]
    }
   ],
   "source": [
    "try:\n",
    "    x = \"2\" + 2\n",
    "except:\n",
    "    # Code that runs if the exception occurs\n",
    "    print(\"The data that you input is not int\")\n",
    "\n",
    "\n",
    "\n"
   ]
  },
  {
   "cell_type": "code",
   "execution_count": 4,
   "id": "cd1e972a",
   "metadata": {},
   "outputs": [
    {
     "name": "stdout",
     "output_type": "stream",
     "text": [
      "Please enter a valid number4\n"
     ]
    }
   ],
   "source": [
    "number = int(input(\"Please enter a valid number\"))"
   ]
  },
  {
   "cell_type": "code",
   "execution_count": 9,
   "id": "4b5e3d87",
   "metadata": {},
   "outputs": [
    {
     "name": "stdout",
     "output_type": "stream",
     "text": [
      "Please enter a valid numberrussia\n",
      "the input data is not a number\n"
     ]
    }
   ],
   "source": [
    "try:\n",
    "    number = int(input(\"Please enter a valid number\"))\n",
    "except:\n",
    "    print(\"the input data is not a number\")"
   ]
  },
  {
   "cell_type": "code",
   "execution_count": 10,
   "id": "4122d926",
   "metadata": {},
   "outputs": [
    {
     "data": {
      "text/plain": [
       "3"
      ]
     },
     "execution_count": 10,
     "metadata": {},
     "output_type": "execute_result"
    }
   ],
   "source": [
    "my_list = [1,2,3]\n",
    "\n",
    "my_list[2]"
   ]
  },
  {
   "cell_type": "code",
   "execution_count": 11,
   "id": "08a1f981",
   "metadata": {},
   "outputs": [
    {
     "ename": "IndexError",
     "evalue": "list index out of range",
     "output_type": "error",
     "traceback": [
      "\u001b[1;31m---------------------------------------------------------------------------\u001b[0m",
      "\u001b[1;31mIndexError\u001b[0m                                Traceback (most recent call last)",
      "Cell \u001b[1;32mIn[11], line 3\u001b[0m\n\u001b[0;32m      1\u001b[0m my_list \u001b[38;5;241m=\u001b[39m [\u001b[38;5;241m1\u001b[39m,\u001b[38;5;241m2\u001b[39m,\u001b[38;5;241m3\u001b[39m]\n\u001b[1;32m----> 3\u001b[0m my_list[\u001b[38;5;241m56\u001b[39m]\n",
      "\u001b[1;31mIndexError\u001b[0m: list index out of range"
     ]
    }
   ],
   "source": [
    "my_list = [1,2,3]\n",
    "\n",
    "my_list[56]"
   ]
  },
  {
   "cell_type": "code",
   "execution_count": 12,
   "id": "3bdaa36c",
   "metadata": {},
   "outputs": [
    {
     "name": "stdout",
     "output_type": "stream",
     "text": [
      "the value is not exist\n"
     ]
    }
   ],
   "source": [
    "my_list = [1,2,3]\n",
    "try:\n",
    "    my_list[56]\n",
    "except:\n",
    "    print(\"the value is not exist\")"
   ]
  },
  {
   "cell_type": "code",
   "execution_count": 15,
   "id": "885a2a04",
   "metadata": {},
   "outputs": [
    {
     "name": "stdout",
     "output_type": "stream",
     "text": [
      "the value is not exist\n"
     ]
    }
   ],
   "source": [
    "my_list = [5,10,15]\n",
    "try:\n",
    "    my_list[15]\n",
    "except:\n",
    "    print(\"the value is not exist\")"
   ]
  },
  {
   "cell_type": "code",
   "execution_count": 17,
   "id": "e387874f",
   "metadata": {},
   "outputs": [
    {
     "name": "stdout",
     "output_type": "stream",
     "text": [
      "Enter a number: xspace\n",
      "That's not a number!\n",
      "This is executed no matter what!\n"
     ]
    }
   ],
   "source": [
    "try:\n",
    "    number = int(input(\"Enter a number: \"))\n",
    "except ValueError:\n",
    "    print(\"That's not a number!\")\n",
    "else:\n",
    "    print(\"You entered a number!\")\n",
    "finally:\n",
    "    print(\"This is executed no matter what!\")\n"
   ]
  },
  {
   "cell_type": "code",
   "execution_count": 19,
   "id": "3d59c936",
   "metadata": {},
   "outputs": [
    {
     "ename": "SyntaxError",
     "evalue": "expected '(' (2518562917.py, line 1)",
     "output_type": "error",
     "traceback": [
      "\u001b[1;36m  Cell \u001b[1;32mIn[19], line 1\u001b[1;36m\u001b[0m\n\u001b[1;33m    def example:\u001b[0m\n\u001b[1;37m               ^\u001b[0m\n\u001b[1;31mSyntaxError\u001b[0m\u001b[1;31m:\u001b[0m expected '('\n"
     ]
    }
   ],
   "source": [
    "def example:\n",
    "    try:\n",
    "         number = int(input(\"Enter a number: \"))\n",
    "    except ValueError:\n",
    "            print(\"That's not a number!\")\n",
    "    else:\n",
    "         print(\"You entered a number!\")\n",
    "    finally:\n",
    "         print(\"This is executed no matter what!\")\n"
   ]
  },
  {
   "cell_type": "code",
   "execution_count": 21,
   "id": "49152121",
   "metadata": {},
   "outputs": [
    {
     "name": "stdout",
     "output_type": "stream",
     "text": [
      "Enter a number: 10\n",
      "0.1\n"
     ]
    }
   ],
   "source": [
    "try:\n",
    "    user_input = input(\"Enter a number: \")\n",
    "    result = 1 / int(user_input)\n",
    "    print(result)\n",
    "except ValueError:\n",
    "    print(\"Please enter a valid integer.\")\n",
    "except ZeroDivisionError:\n",
    "    print(\"Division by zero is not allowed.\")"
   ]
  },
  {
   "cell_type": "code",
   "execution_count": 24,
   "id": "8b9d967e",
   "metadata": {},
   "outputs": [
    {
     "name": "stdout",
     "output_type": "stream",
     "text": [
      "Please enter the first number: 89\n",
      "Please enter the second number: 0\n",
      "Please enter the operation (+, -, *, /): /\n",
      "Cannot divide by zero.\n",
      "Error: float division by zero. Please enter valid numbers and operation.\n",
      "Calculation complete.\n"
     ]
    }
   ],
   "source": [
    "def simple_calculator():\n",
    "    try:\n",
    "        # Get user input\n",
    "        num1 = float(input(\"Please enter the first number: \"))\n",
    "        num2 = float(input(\"Please enter the second number: \"))\n",
    "        operation = input(\"Please enter the operation (+, -, *, /): \")\n",
    "\n",
    "        # Perform the operation\n",
    "        if operation == '/':\n",
    "            # Check for division by zero\n",
    "            if num2 == 0:\n",
    "                print( ZeroDivisionError(\"Cannot divide by zero.\"))\n",
    "            result = num1 / num2\n",
    "        else:\n",
    "            result = {\n",
    "                '+': num1 + num2,\n",
    "                '-': num1 - num2,\n",
    "                '*': num1 * num2,\n",
    "            }[operation]\n",
    "\n",
    "    except (ValueError, ZeroDivisionError) as error:\n",
    "        print(f\"Error: {error}. Please enter valid numbers and operation.\")\n",
    "    except Exception as e:\n",
    "        print(f\"An unexpected error occurred: {e}. Please try again.\")\n",
    "    else:\n",
    "        print(f\"Result: {result}\")\n",
    "    finally:\n",
    "        print(\"Calculation complete.\")\n",
    "\n",
    "if __name__ == \"__main__\":\n",
    "    simple_calculator()\n"
   ]
  },
  {
   "cell_type": "markdown",
   "id": "2aa5d8c9",
   "metadata": {},
   "source": [
    "# Revision"
   ]
  },
  {
   "cell_type": "markdown",
   "id": "d19a3994",
   "metadata": {},
   "source": [
    "# 1. ValueError"
   ]
  },
  {
   "cell_type": "code",
   "execution_count": 21,
   "id": "b05d201a",
   "metadata": {},
   "outputs": [
    {
     "name": "stdout",
     "output_type": "stream",
     "text": [
      "Enter a number:rusa\n"
     ]
    },
    {
     "ename": "ValueError",
     "evalue": "invalid literal for int() with base 10: 'rusa'",
     "output_type": "error",
     "traceback": [
      "\u001b[1;31m---------------------------------------------------------------------------\u001b[0m",
      "\u001b[1;31mValueError\u001b[0m                                Traceback (most recent call last)",
      "Cell \u001b[1;32mIn[21], line 1\u001b[0m\n\u001b[1;32m----> 1\u001b[0m number\u001b[38;5;241m=\u001b[39m\u001b[38;5;28mint\u001b[39m(\u001b[38;5;28minput\u001b[39m(\u001b[38;5;124m\"\u001b[39m\u001b[38;5;124mEnter a number:\u001b[39m\u001b[38;5;124m\"\u001b[39m))\n",
      "\u001b[1;31mValueError\u001b[0m: invalid literal for int() with base 10: 'rusa'"
     ]
    }
   ],
   "source": [
    "number=int(input(\"Enter a number:\"))"
   ]
  },
  {
   "cell_type": "code",
   "execution_count": 22,
   "id": "e86fd874",
   "metadata": {},
   "outputs": [
    {
     "name": "stdout",
     "output_type": "stream",
     "text": [
      "Enter a number:rusa\n",
      "Read the instruction carefully\n"
     ]
    }
   ],
   "source": [
    "#To handle the error we use Try Except Block\n",
    "try:\n",
    "    number=int(input(\"Enter a number:\"))\n",
    "except:\n",
    "    print(\"Read the instruction carefully\")"
   ]
  },
  {
   "cell_type": "markdown",
   "id": "396260a6",
   "metadata": {},
   "source": [
    "# 2.TypeError"
   ]
  },
  {
   "cell_type": "code",
   "execution_count": 23,
   "id": "934b034d",
   "metadata": {},
   "outputs": [
    {
     "ename": "TypeError",
     "evalue": "can only concatenate str (not \"int\") to str",
     "output_type": "error",
     "traceback": [
      "\u001b[1;31m---------------------------------------------------------------------------\u001b[0m",
      "\u001b[1;31mTypeError\u001b[0m                                 Traceback (most recent call last)",
      "Cell \u001b[1;32mIn[23], line 1\u001b[0m\n\u001b[1;32m----> 1\u001b[0m \u001b[38;5;124m\"\u001b[39m\u001b[38;5;124m2\u001b[39m\u001b[38;5;124m\"\u001b[39m\u001b[38;5;241m+\u001b[39m\u001b[38;5;241m2\u001b[39m\n",
      "\u001b[1;31mTypeError\u001b[0m: can only concatenate str (not \"int\") to str"
     ]
    }
   ],
   "source": [
    "\"2\"+2"
   ]
  },
  {
   "cell_type": "code",
   "execution_count": 12,
   "id": "8e4e93a1",
   "metadata": {},
   "outputs": [
    {
     "name": "stdout",
     "output_type": "stream",
     "text": [
      "Operation cannot be excuted, check back your inputs\n"
     ]
    }
   ],
   "source": [
    "#To handle the error we use Try Except Block\n",
    "try:\n",
    "    \"2\"+2\n",
    "except: \n",
    "       print(\"Operation cannot be excuted, check back your inputs\")"
   ]
  },
  {
   "cell_type": "markdown",
   "id": "7a440ecd",
   "metadata": {},
   "source": [
    "# 3.IndexError"
   ]
  },
  {
   "cell_type": "code",
   "execution_count": 15,
   "id": "ebd46883",
   "metadata": {},
   "outputs": [
    {
     "ename": "IndexError",
     "evalue": "list index out of range",
     "output_type": "error",
     "traceback": [
      "\u001b[1;31m---------------------------------------------------------------------------\u001b[0m",
      "\u001b[1;31mIndexError\u001b[0m                                Traceback (most recent call last)",
      "Cell \u001b[1;32mIn[15], line 2\u001b[0m\n\u001b[0;32m      1\u001b[0m my_list\u001b[38;5;241m=\u001b[39m[\u001b[38;5;241m1\u001b[39m,\u001b[38;5;241m2\u001b[39m,\u001b[38;5;241m3\u001b[39m];\n\u001b[1;32m----> 2\u001b[0m my_list[\u001b[38;5;241m3\u001b[39m]\n",
      "\u001b[1;31mIndexError\u001b[0m: list index out of range"
     ]
    }
   ],
   "source": [
    "my_list=[1,2,3]; #here we are declaring the function of my_list, dont forget the semicolon!!\n",
    "my_list[3] #list always start with 0th indices,in this case, 1 is 0th indices,2 is the 1st indices and 3 is the 2nd indices\n",
    "             #now the program is looking for the 3rd indices which doesn't exist hence code cannot be excuted"
   ]
  },
  {
   "cell_type": "code",
   "execution_count": 16,
   "id": "69dcafa4",
   "metadata": {},
   "outputs": [
    {
     "data": {
      "text/plain": [
       "1"
      ]
     },
     "execution_count": 16,
     "metadata": {},
     "output_type": "execute_result"
    }
   ],
   "source": [
    "my_list=[1,2,3]; \n",
    "my_list[0]"
   ]
  },
  {
   "cell_type": "code",
   "execution_count": 31,
   "id": "d917b235",
   "metadata": {},
   "outputs": [
    {
     "name": "stdout",
     "output_type": "stream",
     "text": [
      "3\n"
     ]
    }
   ],
   "source": [
    "my_list=[1,2,3]\n",
    "try: \n",
    "    answer=my_list[2]\n",
    "    print(answer)\n",
    "except:\n",
    "      print(\"Please check back your input\")"
   ]
  },
  {
   "cell_type": "code",
   "execution_count": 32,
   "id": "97de60c7",
   "metadata": {},
   "outputs": [
    {
     "name": "stdout",
     "output_type": "stream",
     "text": [
      "Please check back your input\n"
     ]
    }
   ],
   "source": [
    "#To handle the error we use Try Except Block\n",
    "my_list=[1,2,3]\n",
    "try: \n",
    "    answer=my_list[5]\n",
    "    print(answer)\n",
    "except:\n",
    "      print(\"Please check back your input\")"
   ]
  },
  {
   "cell_type": "markdown",
   "id": "7eab7136",
   "metadata": {},
   "source": [
    "# 4. KeyError"
   ]
  },
  {
   "cell_type": "code",
   "execution_count": 17,
   "id": "f3eb4c6e",
   "metadata": {},
   "outputs": [
    {
     "ename": "KeyError",
     "evalue": "'b'",
     "output_type": "error",
     "traceback": [
      "\u001b[1;31m---------------------------------------------------------------------------\u001b[0m",
      "\u001b[1;31mKeyError\u001b[0m                                  Traceback (most recent call last)",
      "Cell \u001b[1;32mIn[17], line 2\u001b[0m\n\u001b[0;32m      1\u001b[0m my_dict\u001b[38;5;241m=\u001b[39m{\u001b[38;5;124m'\u001b[39m\u001b[38;5;124ma\u001b[39m\u001b[38;5;124m'\u001b[39m:\u001b[38;5;241m1\u001b[39m};\n\u001b[1;32m----> 2\u001b[0m my_dict[\u001b[38;5;124m'\u001b[39m\u001b[38;5;124mb\u001b[39m\u001b[38;5;124m'\u001b[39m]\n",
      "\u001b[1;31mKeyError\u001b[0m: 'b'"
     ]
    }
   ],
   "source": [
    "my_dict={'a':1};\n",
    "my_dict['b'] #the key is not listed in my_dict function, so the function cannot be excuted"
   ]
  },
  {
   "cell_type": "code",
   "execution_count": 18,
   "id": "99e59250",
   "metadata": {},
   "outputs": [
    {
     "data": {
      "text/plain": [
       "1"
      ]
     },
     "execution_count": 18,
     "metadata": {},
     "output_type": "execute_result"
    }
   ],
   "source": [
    "my_dict={'b':1};\n",
    "my_dict['b']"
   ]
  },
  {
   "cell_type": "code",
   "execution_count": 40,
   "id": "96341409",
   "metadata": {},
   "outputs": [
    {
     "name": "stdout",
     "output_type": "stream",
     "text": [
      "The key is not listed in the function\n"
     ]
    }
   ],
   "source": [
    "my_dict={'a':1}\n",
    "try:\n",
    "    word=my_dict[3]\n",
    "    print(word)\n",
    "except KeyError:\n",
    "    print(\"The key is not listed in the function\")"
   ]
  },
  {
   "cell_type": "markdown",
   "id": "4112ac06",
   "metadata": {},
   "source": [
    "# 5. NameError"
   ]
  },
  {
   "cell_type": "code",
   "execution_count": 19,
   "id": "234cd193",
   "metadata": {},
   "outputs": [
    {
     "ename": "NameError",
     "evalue": "name 'unknown_var' is not defined",
     "output_type": "error",
     "traceback": [
      "\u001b[1;31m---------------------------------------------------------------------------\u001b[0m",
      "\u001b[1;31mNameError\u001b[0m                                 Traceback (most recent call last)",
      "Cell \u001b[1;32mIn[19], line 1\u001b[0m\n\u001b[1;32m----> 1\u001b[0m \u001b[38;5;28mprint\u001b[39m(unknown_var)\n",
      "\u001b[1;31mNameError\u001b[0m: name 'unknown_var' is not defined"
     ]
    }
   ],
   "source": [
    "print(unknown_var)# function is not defined so code cannot be excuted"
   ]
  },
  {
   "cell_type": "code",
   "execution_count": 20,
   "id": "a8c5a1de",
   "metadata": {},
   "outputs": [
    {
     "name": "stdout",
     "output_type": "stream",
     "text": [
      "Letsgoo\n"
     ]
    }
   ],
   "source": [
    "unknown_var=\"Letsgoo\"\n",
    "print(unknown_var)"
   ]
  },
  {
   "cell_type": "code",
   "execution_count": 4,
   "id": "d33faeae",
   "metadata": {},
   "outputs": [
    {
     "name": "stdout",
     "output_type": "stream",
     "text": [
      "Please define your function\n"
     ]
    }
   ],
   "source": [
    "try:\n",
    "    print(unknown_var)\n",
    "except NameError:\n",
    "    print(\"Please define your function\")\n"
   ]
  },
  {
   "cell_type": "markdown",
   "id": "87da309e",
   "metadata": {},
   "source": [
    "# Finally and Else in Exceptions"
   ]
  },
  {
   "cell_type": "code",
   "execution_count": 5,
   "id": "fe09b59f",
   "metadata": {},
   "outputs": [
    {
     "name": "stdout",
     "output_type": "stream",
     "text": [
      "Please enter a number:45\n",
      "You entered a number!\n",
      "This is executed no mater what!\n"
     ]
    }
   ],
   "source": [
    "#Inputting an integer\n",
    "try:\n",
    "    number=int(input(\"Please enter a number:\"))\n",
    "except ValueError:\n",
    "    print(\"That's not a number!\")\n",
    "else:\n",
    "    print(\"You entered a number!\")\n",
    "finally:\n",
    "    print(\"This is executed no mater what!\")"
   ]
  },
  {
   "cell_type": "code",
   "execution_count": 6,
   "id": "9531c17c",
   "metadata": {},
   "outputs": [
    {
     "name": "stdout",
     "output_type": "stream",
     "text": [
      "Please enter a number:kipas\n",
      "That's not a number!\n",
      "This is executed no mater what!\n"
     ]
    }
   ],
   "source": [
    "#Inputting an string\n",
    "try:\n",
    "    number=int(input(\"Please enter a number:\"))\n",
    "except ValueError:\n",
    "    print(\"That's not a number!\")\n",
    "else:\n",
    "    print(\"You entered a number!\")\n",
    "finally:\n",
    "    print(\"This is executed no mater what!\")"
   ]
  },
  {
   "cell_type": "code",
   "execution_count": null,
   "id": "1372e71b",
   "metadata": {},
   "outputs": [],
   "source": []
  }
 ],
 "metadata": {
  "kernelspec": {
   "display_name": "Python 3 (ipykernel)",
   "language": "python",
   "name": "python3"
  },
  "language_info": {
   "codemirror_mode": {
    "name": "ipython",
    "version": 3
   },
   "file_extension": ".py",
   "mimetype": "text/x-python",
   "name": "python",
   "nbconvert_exporter": "python",
   "pygments_lexer": "ipython3",
   "version": "3.11.5"
  }
 },
 "nbformat": 4,
 "nbformat_minor": 5
}
