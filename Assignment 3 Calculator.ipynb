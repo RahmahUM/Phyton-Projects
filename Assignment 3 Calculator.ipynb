{
 "cells": [
  {
   "cell_type": "code",
   "execution_count": 3,
   "id": "fee32639",
   "metadata": {},
   "outputs": [
    {
     "name": "stdout",
     "output_type": "stream",
     "text": [
      "Enter the first number: r\n",
      "Invalid input. Please enter a number.\n",
      "Enter the first number: 500\n",
      "Enter the second number: 0\n",
      "Enter an operation (+, -, *, /): /\n",
      "Error: Cannot divide by zero.\n",
      "Enter the first number: 45\n",
      "Enter the second number: 45\n",
      "Enter an operation (+, -, *, /): $\n",
      "Invalid operation. Please choose +, -, *, or /.\n",
      "Enter the first number: 45\n",
      "Enter the second number: 34\n",
      "Enter an operation (+, -, *, /): e\n",
      "Invalid operation. Please choose +, -, *, or /.\n",
      "Enter the first number: 34\n",
      "Enter the second number: 12\n",
      "Enter an operation (+, -, *, /): -\n",
      "The result is: 22.0\n"
     ]
    }
   ],
   "source": [
    "def simple_calculator():\n",
    "    while True:\n",
    "        try:\n",
    "            # Ask the user for two numbers and operation\n",
    "            num1 = float(input(\"Enter the first number: \"))\n",
    "            num2 = float(input(\"Enter the second number: \"))\n",
    "            operation = input(\"Enter an operation (+, -, *, /): \")\n",
    "            \n",
    "            # Perform calculation based on the operation\n",
    "            if operation == '+':\n",
    "                result = num1 + num2\n",
    "            elif operation == '-':\n",
    "                result = num1 - num2\n",
    "            elif operation == '*':\n",
    "                result = num1 * num2\n",
    "            elif operation == '/':\n",
    "                result = num1 / num2\n",
    "            else:\n",
    "                print(\"Invalid operation. Please choose +, -, *, or /.\")\n",
    "                continue\n",
    "                \n",
    "            # Display the results\n",
    "            print(f\"The result is: {result}\")\n",
    "            break\n",
    "\n",
    "        except ValueError:\n",
    "            print(\"Invalid input. Please enter a number.\")\n",
    "        except ZeroDivisionError:\n",
    "            print(\"Error: Cannot divide by zero.\")\n",
    "        except Exception as e:\n",
    "            print(f\"An unexpected error occurred: {e}\")\n",
    "\n",
    "# Run the calculator\n",
    "simple_calculator()"
   ]
  },
  {
   "cell_type": "code",
   "execution_count": 4,
   "id": "545a3697",
   "metadata": {},
   "outputs": [
    {
     "name": "stdout",
     "output_type": "stream",
     "text": [
      "Enter the first number: 400\n",
      "Enter the second number: 200\n",
      "Enter an operation (+, -, *, /): +\n",
      "The result is: 600.0\n"
     ]
    }
   ],
   "source": [
    "def simple_calculator():\n",
    "    while True:\n",
    "        try:\n",
    "            # Ask the user for two numbers and operation\n",
    "            num1 = float(input(\"Enter the first number: \"))\n",
    "            num2 = float(input(\"Enter the second number: \"))\n",
    "            operation = input(\"Enter an operation (+, -, *, /): \")\n",
    "            \n",
    "            # Perform calculation based on the operation\n",
    "            if operation == '+':\n",
    "                result = num1 + num2\n",
    "            elif operation == '-':\n",
    "                result = num1 - num2\n",
    "            elif operation == '*':\n",
    "                result = num1 * num2\n",
    "            elif operation == '/':\n",
    "                result = num1 / num2\n",
    "            else:\n",
    "                print(\"Invalid operation. Please choose +, -, *, or /.\")\n",
    "                continue\n",
    "                \n",
    "            # Display the results\n",
    "            print(f\"The result is: {result}\")\n",
    "            break\n",
    "\n",
    "        except ValueError:\n",
    "            print(\"Invalid input. Please enter a number.\")\n",
    "        except ZeroDivisionError:\n",
    "            print(\"Error: Cannot divide by zero.\")\n",
    "        except Exception as e:\n",
    "            print(f\"An unexpected error occurred: {e}\")\n",
    "\n",
    "# Run the calculator\n",
    "simple_calculator()"
   ]
  },
  {
   "cell_type": "code",
   "execution_count": null,
   "id": "33925688",
   "metadata": {},
   "outputs": [],
   "source": []
  }
 ],
 "metadata": {
  "kernelspec": {
   "display_name": "Python 3 (ipykernel)",
   "language": "python",
   "name": "python3"
  },
  "language_info": {
   "codemirror_mode": {
    "name": "ipython",
    "version": 3
   },
   "file_extension": ".py",
   "mimetype": "text/x-python",
   "name": "python",
   "nbconvert_exporter": "python",
   "pygments_lexer": "ipython3",
   "version": "3.11.5"
  }
 },
 "nbformat": 4,
 "nbformat_minor": 5
}
