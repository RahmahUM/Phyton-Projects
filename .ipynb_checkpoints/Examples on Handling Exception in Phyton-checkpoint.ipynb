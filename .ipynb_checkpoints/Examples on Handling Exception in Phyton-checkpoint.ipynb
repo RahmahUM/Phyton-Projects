{
 "cells": [
  {
   "cell_type": "code",
   "execution_count": 7,
   "id": "47ad536a",
   "metadata": {},
   "outputs": [
    {
     "name": "stdout",
     "output_type": "stream",
     "text": [
      "The data that you input is not int\n"
     ]
    }
   ],
   "source": [
    "try:\n",
    "    x = \"2\" + 2\n",
    "except:\n",
    "    # Code that runs if the exception occurs\n",
    "    print(\"The data that you input is not int\")\n",
    "\n",
    "\n",
    "\n"
   ]
  },
  {
   "cell_type": "code",
   "execution_count": 8,
   "id": "cd1e972a",
   "metadata": {},
   "outputs": [
    {
     "name": "stdout",
     "output_type": "stream",
     "text": [
      "Please enter a valid numberIsrael\n"
     ]
    },
    {
     "ename": "ValueError",
     "evalue": "invalid literal for int() with base 10: 'Israel'",
     "output_type": "error",
     "traceback": [
      "\u001b[1;31m---------------------------------------------------------------------------\u001b[0m",
      "\u001b[1;31mValueError\u001b[0m                                Traceback (most recent call last)",
      "Cell \u001b[1;32mIn[8], line 1\u001b[0m\n\u001b[1;32m----> 1\u001b[0m number \u001b[38;5;241m=\u001b[39m \u001b[38;5;28mint\u001b[39m(\u001b[38;5;28minput\u001b[39m(\u001b[38;5;124m\"\u001b[39m\u001b[38;5;124mPlease enter a valid number\u001b[39m\u001b[38;5;124m\"\u001b[39m))\n",
      "\u001b[1;31mValueError\u001b[0m: invalid literal for int() with base 10: 'Israel'"
     ]
    }
   ],
   "source": [
    "number = int(input(\"Please enter a valid number\"))"
   ]
  },
  {
   "cell_type": "code",
   "execution_count": 9,
   "id": "4b5e3d87",
   "metadata": {},
   "outputs": [
    {
     "name": "stdout",
     "output_type": "stream",
     "text": [
      "Please enter a valid numberrussia\n",
      "the input data is not a number\n"
     ]
    }
   ],
   "source": [
    "try:\n",
    "    number = int(input(\"Please enter a valid number\"))\n",
    "except:\n",
    "    print(\"the input data is not a number\")"
   ]
  },
  {
   "cell_type": "code",
   "execution_count": 10,
   "id": "4122d926",
   "metadata": {},
   "outputs": [
    {
     "data": {
      "text/plain": [
       "3"
      ]
     },
     "execution_count": 10,
     "metadata": {},
     "output_type": "execute_result"
    }
   ],
   "source": [
    "my_list = [1,2,3]\n",
    "\n",
    "my_list[2]"
   ]
  },
  {
   "cell_type": "code",
   "execution_count": 11,
   "id": "08a1f981",
   "metadata": {},
   "outputs": [
    {
     "ename": "IndexError",
     "evalue": "list index out of range",
     "output_type": "error",
     "traceback": [
      "\u001b[1;31m---------------------------------------------------------------------------\u001b[0m",
      "\u001b[1;31mIndexError\u001b[0m                                Traceback (most recent call last)",
      "Cell \u001b[1;32mIn[11], line 3\u001b[0m\n\u001b[0;32m      1\u001b[0m my_list \u001b[38;5;241m=\u001b[39m [\u001b[38;5;241m1\u001b[39m,\u001b[38;5;241m2\u001b[39m,\u001b[38;5;241m3\u001b[39m]\n\u001b[1;32m----> 3\u001b[0m my_list[\u001b[38;5;241m56\u001b[39m]\n",
      "\u001b[1;31mIndexError\u001b[0m: list index out of range"
     ]
    }
   ],
   "source": [
    "my_list = [1,2,3]\n",
    "\n",
    "my_list[56]"
   ]
  },
  {
   "cell_type": "code",
   "execution_count": 12,
   "id": "3bdaa36c",
   "metadata": {},
   "outputs": [
    {
     "name": "stdout",
     "output_type": "stream",
     "text": [
      "the value is not exist\n"
     ]
    }
   ],
   "source": [
    "my_list = [1,2,3]\n",
    "try:\n",
    "    my_list[56]\n",
    "except:\n",
    "    print(\"the value is not exist\")"
   ]
  },
  {
   "cell_type": "code",
   "execution_count": 15,
   "id": "885a2a04",
   "metadata": {},
   "outputs": [
    {
     "name": "stdout",
     "output_type": "stream",
     "text": [
      "the value is not exist\n"
     ]
    }
   ],
   "source": [
    "my_list = [5,10,15]\n",
    "try:\n",
    "    my_list[15]\n",
    "except:\n",
    "    print(\"the value is not exist\")"
   ]
  },
  {
   "cell_type": "code",
   "execution_count": 17,
   "id": "e387874f",
   "metadata": {},
   "outputs": [
    {
     "name": "stdout",
     "output_type": "stream",
     "text": [
      "Enter a number: xspace\n",
      "That's not a number!\n",
      "This is executed no matter what!\n"
     ]
    }
   ],
   "source": [
    "try:\n",
    "    number = int(input(\"Enter a number: \"))\n",
    "except ValueError:\n",
    "    print(\"That's not a number!\")\n",
    "else:\n",
    "    print(\"You entered a number!\")\n",
    "finally:\n",
    "    print(\"This is executed no matter what!\")\n"
   ]
  },
  {
   "cell_type": "code",
   "execution_count": 19,
   "id": "3d59c936",
   "metadata": {},
   "outputs": [
    {
     "ename": "SyntaxError",
     "evalue": "expected '(' (2518562917.py, line 1)",
     "output_type": "error",
     "traceback": [
      "\u001b[1;36m  Cell \u001b[1;32mIn[19], line 1\u001b[1;36m\u001b[0m\n\u001b[1;33m    def example:\u001b[0m\n\u001b[1;37m               ^\u001b[0m\n\u001b[1;31mSyntaxError\u001b[0m\u001b[1;31m:\u001b[0m expected '('\n"
     ]
    }
   ],
   "source": [
    "def example:\n",
    "    try:\n",
    "         number = int(input(\"Enter a number: \"))\n",
    "    except ValueError:\n",
    "            print(\"That's not a number!\")\n",
    "    else:\n",
    "         print(\"You entered a number!\")\n",
    "    finally:\n",
    "         print(\"This is executed no matter what!\")\n"
   ]
  },
  {
   "cell_type": "code",
   "execution_count": 21,
   "id": "49152121",
   "metadata": {},
   "outputs": [
    {
     "name": "stdout",
     "output_type": "stream",
     "text": [
      "Enter a number: 10\n",
      "0.1\n"
     ]
    }
   ],
   "source": [
    "try:\n",
    "    user_input = input(\"Enter a number: \")\n",
    "    result = 1 / int(user_input)\n",
    "    print(result)\n",
    "except ValueError:\n",
    "    print(\"Please enter a valid integer.\")\n",
    "except ZeroDivisionError:\n",
    "    print(\"Division by zero is not allowed.\")"
   ]
  },
  {
   "cell_type": "code",
   "execution_count": 24,
   "id": "8b9d967e",
   "metadata": {},
   "outputs": [
    {
     "name": "stdout",
     "output_type": "stream",
     "text": [
      "Please enter the first number: 89\n",
      "Please enter the second number: 0\n",
      "Please enter the operation (+, -, *, /): /\n",
      "Cannot divide by zero.\n",
      "Error: float division by zero. Please enter valid numbers and operation.\n",
      "Calculation complete.\n"
     ]
    }
   ],
   "source": [
    "def simple_calculator():\n",
    "    try:\n",
    "        # Get user input\n",
    "        num1 = float(input(\"Please enter the first number: \"))\n",
    "        num2 = float(input(\"Please enter the second number: \"))\n",
    "        operation = input(\"Please enter the operation (+, -, *, /): \")\n",
    "\n",
    "        # Perform the operation\n",
    "        if operation == '/':\n",
    "            # Check for division by zero\n",
    "            if num2 == 0:\n",
    "                print( ZeroDivisionError(\"Cannot divide by zero.\"))\n",
    "            result = num1 / num2\n",
    "        else:\n",
    "            result = {\n",
    "                '+': num1 + num2,\n",
    "                '-': num1 - num2,\n",
    "                '*': num1 * num2,\n",
    "            }[operation]\n",
    "\n",
    "    except (ValueError, ZeroDivisionError) as error:\n",
    "        print(f\"Error: {error}. Please enter valid numbers and operation.\")\n",
    "    except Exception as e:\n",
    "        print(f\"An unexpected error occurred: {e}. Please try again.\")\n",
    "    else:\n",
    "        print(f\"Result: {result}\")\n",
    "    finally:\n",
    "        print(\"Calculation complete.\")\n",
    "\n",
    "if __name__ == \"__main__\":\n",
    "    simple_calculator()\n"
   ]
  },
  {
   "cell_type": "code",
   "execution_count": null,
   "id": "614c2b18",
   "metadata": {},
   "outputs": [],
   "source": [
    "\n"
   ]
  }
 ],
 "metadata": {
  "kernelspec": {
   "display_name": "Python 3 (ipykernel)",
   "language": "python",
   "name": "python3"
  },
  "language_info": {
   "codemirror_mode": {
    "name": "ipython",
    "version": 3
   },
   "file_extension": ".py",
   "mimetype": "text/x-python",
   "name": "python",
   "nbconvert_exporter": "python",
   "pygments_lexer": "ipython3",
   "version": "3.11.5"
  }
 },
 "nbformat": 4,
 "nbformat_minor": 5
}
