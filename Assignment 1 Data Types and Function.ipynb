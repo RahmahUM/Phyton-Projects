{
 "cells": [
  {
   "cell_type": "code",
   "execution_count": 1,
   "id": "fe5c45c9",
   "metadata": {},
   "outputs": [
    {
     "name": "stdout",
     "output_type": "stream",
     "text": [
      "Please enter the name of the subject:Thermodynamics\n",
      "the subject is not available\n"
     ]
    }
   ],
   "source": [
    "subjects=[\"Software\",\"Chemistry\",\"English\",\"Arabic\"]\n",
    "\n",
    "def subject_availability(subject_name):\n",
    "    if(is_available(subject_name)):\n",
    "        return \"the subject is available\"\n",
    "    else:\n",
    "        return \"the subject is not available\"\n",
    "    \n",
    "def is_available(subject_name):\n",
    "    return subject_name in subjects\n",
    "\n",
    "input_subject=input(\"Please enter the name of the subject:\")\n",
    "print(subject_availability(input_subject))"
   ]
  },
  {
   "cell_type": "code",
   "execution_count": 2,
   "id": "320e6a1a",
   "metadata": {},
   "outputs": [
    {
     "name": "stdout",
     "output_type": "stream",
     "text": [
      "Please enter the name of the subject:Arabic\n",
      "the subject is available\n"
     ]
    }
   ],
   "source": [
    "subjects=[\"Software\",\"Chemistry\",\"English\",\"Arabic\"]\n",
    "\n",
    "def subject_availability(subject_name):\n",
    "    if(is_available(subject_name)):\n",
    "        return \"the subject is available\"\n",
    "    else:\n",
    "        return \"the subject is not available\"\n",
    "    \n",
    "def is_available(subject_name):\n",
    "    return subject_name in subjects\n",
    "\n",
    "input_subject=input(\"Please enter the name of the subject:\")\n",
    "print(subject_availability(input_subject))"
   ]
  },
  {
   "cell_type": "code",
   "execution_count": null,
   "id": "283a7362",
   "metadata": {},
   "outputs": [],
   "source": []
  }
 ],
 "metadata": {
  "kernelspec": {
   "display_name": "Python 3 (ipykernel)",
   "language": "python",
   "name": "python3"
  },
  "language_info": {
   "codemirror_mode": {
    "name": "ipython",
    "version": 3
   },
   "file_extension": ".py",
   "mimetype": "text/x-python",
   "name": "python",
   "nbconvert_exporter": "python",
   "pygments_lexer": "ipython3",
   "version": "3.11.5"
  }
 },
 "nbformat": 4,
 "nbformat_minor": 5
}
