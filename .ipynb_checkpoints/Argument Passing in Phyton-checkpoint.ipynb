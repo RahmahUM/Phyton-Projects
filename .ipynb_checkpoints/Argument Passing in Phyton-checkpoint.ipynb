{
 "cells": [
  {
   "cell_type": "markdown",
   "id": "0a40f7cf",
   "metadata": {},
   "source": [
    "# Positional Arguments"
   ]
  },
  {
   "cell_type": "code",
   "execution_count": 2,
   "id": "dbcd9f89",
   "metadata": {},
   "outputs": [
    {
     "name": "stdout",
     "output_type": "stream",
     "text": [
      "Benjamin is enrolled in Fluid Mechanic class.\n"
     ]
    }
   ],
   "source": [
    "def student_information(class_name, student_name):\n",
    "    # Display information about a student and their class.\n",
    "    print(student_name + \" is enrolled in \" + class_name + \" class.\")\n",
    "# Positional arguments:\n",
    "student_information('Fluid Mechanic', 'Benjamin')\n"
   ]
  },
  {
   "cell_type": "markdown",
   "id": "947edb22",
   "metadata": {},
   "source": [
    "# Keyword Arguments"
   ]
  },
  {
   "cell_type": "code",
   "execution_count": 3,
   "id": "1b06060e",
   "metadata": {},
   "outputs": [],
   "source": [
    "def student_information(class_name, student_name):\n",
    "    # Display information about a student and their class.\n",
    "    print(student_name + \" is enrolled in \" + class_name + \" class.\")\n"
   ]
  },
  {
   "cell_type": "markdown",
   "id": "046e875a",
   "metadata": {},
   "source": [
    "# function calling"
   ]
  },
  {
   "cell_type": "code",
   "execution_count": 5,
   "id": "cd7916b2",
   "metadata": {},
   "outputs": [
    {
     "ename": "TypeError",
     "evalue": "student_information() got an unexpected keyword argument 'subject_name'",
     "output_type": "error",
     "traceback": [
      "\u001b[1;31m---------------------------------------------------------------------------\u001b[0m",
      "\u001b[1;31mTypeError\u001b[0m                                 Traceback (most recent call last)",
      "Cell \u001b[1;32mIn[5], line 1\u001b[0m\n\u001b[1;32m----> 1\u001b[0m student_information(student_name\u001b[38;5;241m=\u001b[39m\u001b[38;5;124m'\u001b[39m\u001b[38;5;124mKairo\u001b[39m\u001b[38;5;124m'\u001b[39m, subject_name\u001b[38;5;241m=\u001b[39m\u001b[38;5;124m'\u001b[39m\u001b[38;5;124mPhyton\u001b[39m\u001b[38;5;124m'\u001b[39m)\n",
      "\u001b[1;31mTypeError\u001b[0m: student_information() got an unexpected keyword argument 'subject_name'"
     ]
    }
   ],
   "source": [
    "student_information(student_name='Kairo', subject_name='Phyton')\n"
   ]
  },
  {
   "cell_type": "markdown",
   "id": "d9b9ba63",
   "metadata": {},
   "source": [
    "#variable length arguments"
   ]
  },
  {
   "cell_type": "code",
   "execution_count": null,
   "id": "a993fd94",
   "metadata": {},
   "outputs": [],
   "source": [
    "def enroll_in_courses(student_name, *courses):\n",
    "    # Enroll a student in multiple courses.\n",
    "    print(\"Student: \" + student_name)\n",
    "    print(\"Enrolled in:\")\n",
    "    for course in courses:\n",
    "        print(\"- \" + course)\n"
   ]
  },
  {
   "cell_type": "code",
   "execution_count": null,
   "id": "4fcb14f9",
   "metadata": {},
   "outputs": [],
   "source": [
    "enroll_in_courses('Emily', 'Biology 101', 'Chemistry 101', 'Physics 101')\n"
   ]
  },
  {
   "cell_type": "markdown",
   "id": "d2add73a",
   "metadata": {},
   "source": [
    "##Variable Length Arguments**"
   ]
  },
  {
   "cell_type": "markdown",
   "id": "dc47d17a",
   "metadata": {},
   "source": []
  },
  {
   "cell_type": "code",
   "execution_count": null,
   "id": "d7187c9b",
   "metadata": {},
   "outputs": [],
   "source": []
  }
 ],
 "metadata": {
  "kernelspec": {
   "display_name": "Python 3 (ipykernel)",
   "language": "python",
   "name": "python3"
  },
  "language_info": {
   "codemirror_mode": {
    "name": "ipython",
    "version": 3
   },
   "file_extension": ".py",
   "mimetype": "text/x-python",
   "name": "python",
   "nbconvert_exporter": "python",
   "pygments_lexer": "ipython3",
   "version": "3.11.5"
  }
 },
 "nbformat": 4,
 "nbformat_minor": 5
}
