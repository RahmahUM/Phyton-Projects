{
 "cells": [
  {
   "attachments": {},
   "cell_type": "markdown",
   "id": "3c99ec37",
   "metadata": {},
   "source": [
    "# Exercise 1: Processing Student Data with Python"
   ]
  },
  {
   "cell_type": "code",
   "execution_count": 6,
   "id": "cecc9568",
   "metadata": {},
   "outputs": [],
   "source": [
    "import csv\n",
    "\n",
    "def process_students_file(input_file, output_file):\n",
    "    # Read the CSV file\n",
    "    with open(input_file, mode='r', newline='') as file:\n",
    "        reader = csv.DictReader(file)\n",
    "        \n",
    "        #Filter Data\n",
    "        filtered_students = []\n",
    "        for row in reader:\n",
    "            if row ['Grade'] in ['A','B']: # Check if the grade is A or B\n",
    "                row['Status'] = 'Passed' # Add Status column\n",
    "                filtered_students.append(row)\n",
    "                \n",
    "    # Write to a new CSV file\n",
    "    if filtered_students:\n",
    "        with open(output_file, mode='w', newline='') as file:\n",
    "            writer = csv.DictWriter(file, fieldnames=filtered_students[0].keys())\n",
    "            writer.writeheader()\n",
    "            writer.writerows(filtered_students)\n",
    "            \n",
    "process_students_file('students.csv','top_students.csv')"
   ]
  },
  {
   "attachments": {},
   "cell_type": "markdown",
   "id": "c6adb965",
   "metadata": {},
   "source": [
    "# Practice Exercise: Extracting State Population"
   ]
  },
  {
   "cell_type": "code",
   "execution_count": 10,
   "id": "b759e36d",
   "metadata": {
    "scrolled": true
   },
   "outputs": [
    {
     "name": "stdout",
     "output_type": "stream",
     "text": [
      "Enter the name of a state (type 'quit' to exit): Johor\n",
      "Population of Johor: 3794000\n",
      "Enter the name of a state (type 'quit' to exit): Sabah\n",
      "Population of Sabah: 3833000\n",
      "Enter the name of a state (type 'quit' to exit): quit\n"
     ]
    }
   ],
   "source": [
    "import json\n",
    "import requests\n",
    "\n",
    "# Function to get the population of a state\n",
    "def get_population(state_name, dataset):\n",
    "    for state in dataset:\n",
    "        if state['state'] == state_name:\n",
    "            return state['population']\n",
    "    return None\n",
    "\n",
    "# Function to load the dataset from a JSON file or URL\n",
    "def load_dataset(data_source):\n",
    "    if data_source.startswith('http'):\n",
    "        response = requests.get(data_source)\n",
    "        dataset = response.json()\n",
    "    else:\n",
    "        with open(data_source, 'r') as file:\n",
    "            dataset = json.load(file)\n",
    "    return dataset\n",
    "\n",
    "# Main function\n",
    "def main():\n",
    "    # Provide the path or URL to your dataset JSON file\n",
    "    dataset_source = \"https://jian.sh/malaysia-api/state/v1/all.json\"  # Replace with your actual file path or URL\n",
    "\n",
    "    # Load the dataset\n",
    "    state_dataset = load_dataset(dataset_source)\n",
    "\n",
    "    while True:\n",
    "        # Get user input\n",
    "        state_name = input(\"Enter the name of a state (type 'quit' to exit): \")\n",
    "\n",
    "        # Check for exit condition\n",
    "        if state_name.lower() == 'quit':\n",
    "            break\n",
    "\n",
    "        # Get the population\n",
    "        population = get_population(state_name, state_dataset)\n",
    "\n",
    "        # Display the result\n",
    "        if population is not None:\n",
    "            print(f\"Population of {state_name}: {population}\")\n",
    "        else:\n",
    "            print(f\"{state_name} is not found in the data.\")\n",
    "\n",
    "# Run the script\n",
    "if __name__ == \"__main__\":\n",
    "    main()\n"
   ]
  },
  {
   "cell_type": "code",
   "execution_count": null,
   "id": "37272f16",
   "metadata": {},
   "outputs": [],
   "source": []
  }
 ],
 "metadata": {
  "kernelspec": {
   "display_name": "Python 3 (ipykernel)",
   "language": "python",
   "name": "python3"
  },
  "language_info": {
   "codemirror_mode": {
    "name": "ipython",
    "version": 3
   },
   "file_extension": ".py",
   "mimetype": "text/x-python",
   "name": "python",
   "nbconvert_exporter": "python",
   "pygments_lexer": "ipython3",
   "version": "3.11.5"
  }
 },
 "nbformat": 4,
 "nbformat_minor": 5
}
