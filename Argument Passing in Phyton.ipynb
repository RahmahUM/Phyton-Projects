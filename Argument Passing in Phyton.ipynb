{
 "cells": [
  {
   "cell_type": "markdown",
   "id": "55af71cb",
   "metadata": {},
   "source": [
    "# 1.Positional Arguments:\n",
    "# Based on the order in which they are given"
   ]
  },
  {
   "cell_type": "code",
   "execution_count": 12,
   "id": "a8090f76",
   "metadata": {},
   "outputs": [
    {
     "name": "stdout",
     "output_type": "stream",
     "text": [
      "Benjamin is enrolled in Fluid Mechanic class.\n"
     ]
    }
   ],
   "source": [
    "def student_information(class_name, student_name):\n",
    "    # Display information about a student and their class.\n",
    "    print(student_name + \" is enrolled in \" + class_name + \" class.\")\n",
    "# Positional arguments:\n",
    "student_information('Fluid Mechanic', 'Benjamin')\n"
   ]
  },
  {
   "cell_type": "markdown",
   "id": "8125340c",
   "metadata": {},
   "source": [
    "# 2. Keyword Arguments\n",
    "# : Arguments provided to a function, specifying the parameter name with which they are associated"
   ]
  },
  {
   "cell_type": "code",
   "execution_count": 10,
   "id": "902cabeb",
   "metadata": {},
   "outputs": [
    {
     "name": "stdout",
     "output_type": "stream",
     "text": [
      "Alice is enrolled in Mathematics class.\n"
     ]
    }
   ],
   "source": [
    "def student_information(class_name, student_name):\n",
    "    # Display information about a student and their class.\n",
    "    print(student_name + \" is enrolled in \" + class_name + \" class.\")\n",
    "#Keyword arguments:\n",
    "#student_information(class_name='Mathematics',student_name='Alice')\n",
    "student_information(student_name='Alice',class_name='Mathematics')"
   ]
  },
  {
   "cell_type": "markdown",
   "id": "c18b696e",
   "metadata": {},
   "source": [
    "# 3.Default Arguments:\n",
    "# Arguments provided to a function, specifying the parameter name with which they are associated."
   ]
  },
  {
   "cell_type": "code",
   "execution_count": null,
   "id": "98473661",
   "metadata": {},
   "outputs": [],
   "source": [
    "def enroll_in_courses(student_name, *courses):\n",
    "    # Enroll a student in multiple courses.\n",
    "    print(\"Student: \" + student_name)\n",
    "    print(\"Enrolled in:\")\n",
    "    for course in courses:\n",
    "        print(\"- \" + course)\n"
   ]
  },
  {
   "cell_type": "code",
   "execution_count": 6,
   "id": "dd7bb634",
   "metadata": {},
   "outputs": [
    {
     "name": "stdout",
     "output_type": "stream",
     "text": [
      "Student: Lina\n",
      "Enrolled course:Introduction to Phyton\n",
      "Student: Sara\n",
      "Enrolled course:Data Structures\n"
     ]
    }
   ],
   "source": [
    "def enroll_in_courses(student_name, course='Introduction to Phyton'):\n",
    "    # Enroll a student in a course with a default option.\n",
    "    print(\"Student: \" + student_name)\n",
    "    print(\"Enrolled course:\"+course)\n",
    "   #Using the default argument for course:  \n",
    "enroll_in_courses(student_name='Lina')\n",
    "     #Overriding the default argument for course:\n",
    "enroll_in_courses(student_name='Sara',course='Data Structures')"
   ]
  },
  {
   "cell_type": "code",
   "execution_count": 15,
   "id": "7d6af92e",
   "metadata": {},
   "outputs": [
    {
     "name": "stdout",
     "output_type": "stream",
     "text": [
      "Student: Rayyan\n",
      "Enrolled course:Heat Transfer\n",
      "Student: Sara\n",
      "Enrolled course:Data Structures\n"
     ]
    }
   ],
   "source": [
    "def enroll_in_courses(course,student_name='Rayyan'):\n",
    "    # Enroll a student in a course with a default option.\n",
    "    print(\"Student: \" + student_name)\n",
    "    print(\"Enrolled course:\"+course)\n",
    "   #Using the default argument for course:  \n",
    "enroll_in_courses(course='Heat Transfer')\n",
    "     #Overriding the default argument for course:\n",
    "enroll_in_courses(student_name='Sara',course='Data Structures')"
   ]
  },
  {
   "cell_type": "markdown",
   "id": "a5f593e0",
   "metadata": {},
   "source": [
    "# 4. Variable Length Arguments **"
   ]
  },
  {
   "cell_type": "markdown",
   "id": "d30c8aff",
   "metadata": {},
   "source": [
    "# a)*args: Let you pass a variable number of arguments to a function."
   ]
  },
  {
   "cell_type": "code",
   "execution_count": 7,
   "id": "8cc1624e",
   "metadata": {},
   "outputs": [
    {
     "name": "stdout",
     "output_type": "stream",
     "text": [
      "Student: Emily\n",
      "Enrolled in:\n",
      "- Biology 101\n",
      "- Chemistry 101\n",
      "- Physics 101\n"
     ]
    }
   ],
   "source": [
    " def enroll_in_courses(student_name, *courses):\n",
    "    # Enroll a student in multiple courses.\n",
    "    print(\"Student: \" + student_name)\n",
    "    print(\"Enrolled in:\")\n",
    "    for course in courses:\n",
    "        print(\"- \" + course)\n",
    "enroll_in_courses('Emily', 'Biology 101', 'Chemistry 101', 'Physics 101')\n"
   ]
  },
  {
   "cell_type": "markdown",
   "id": "0134c171",
   "metadata": {},
   "source": [
    "# b)*kwargs: Parameter allows you to pass a variable number of keyword arguments to a function. Here, we use it to include additional details about a student's enrollment."
   ]
  },
  {
   "cell_type": "code",
   "execution_count": 8,
   "id": "44f8f5dd",
   "metadata": {},
   "outputs": [
    {
     "name": "stdout",
     "output_type": "stream",
     "text": [
      "Enrolling Smith with the following details:\n",
      "- Course: Algebra II\n",
      "- Semester: One\n",
      "- Payment Method: Credit Card\n"
     ]
    }
   ],
   "source": [
    "def enroll_student(student_name, **details):\n",
    "     # Enroll a student with additional details.\n",
    "    print(\"Enrolling \" + student_name + \" with the following details:\")\n",
    "    for detail, value in details.items():\n",
    "        print(\"- \" + detail.replace('_', ' ').title() + \": \" + str(value))\n",
    "enroll_student('Smith', course='Algebra II', semester='One', payment_method='Credit Card')\n"
   ]
  },
  {
   "cell_type": "markdown",
   "id": "dc297ab0",
   "metadata": {},
   "source": [
    "# Class Exercise"
   ]
  },
  {
   "cell_type": "code",
   "execution_count": null,
   "id": "51f64c9f",
   "metadata": {},
   "outputs": [],
   "source": []
  }
 ],
 "metadata": {
  "kernelspec": {
   "display_name": "Python 3 (ipykernel)",
   "language": "python",
   "name": "python3"
  },
  "language_info": {
   "codemirror_mode": {
    "name": "ipython",
    "version": 3
   },
   "file_extension": ".py",
   "mimetype": "text/x-python",
   "name": "python",
   "nbconvert_exporter": "python",
   "pygments_lexer": "ipython3",
   "version": "3.11.5"
  }
 },
 "nbformat": 4,
 "nbformat_minor": 5
}
