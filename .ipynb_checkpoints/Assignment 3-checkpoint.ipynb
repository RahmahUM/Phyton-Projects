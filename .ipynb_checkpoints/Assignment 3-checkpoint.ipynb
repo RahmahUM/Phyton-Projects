{
 "cells": [
  {
   "cell_type": "code",
   "execution_count": null,
   "id": "e3a29205",
   "metadata": {},
   "outputs": [],
   "source": [
    "def simple_calculator():\n",
    "    while True:\n",
    "        try:\n",
    "            #Ask the user for two numbers and operation\n",
    "            num1 = float(\"Enter the first number: \"))\n",
    "            num2 = float(\"Enter the second number: \"))\n",
    "            operation = input(\"Enter an operation ()\")"
   ]
  }
 ],
 "metadata": {
  "kernelspec": {
   "display_name": "Python 3 (ipykernel)",
   "language": "python",
   "name": "python3"
  },
  "language_info": {
   "codemirror_mode": {
    "name": "ipython",
    "version": 3
   },
   "file_extension": ".py",
   "mimetype": "text/x-python",
   "name": "python",
   "nbconvert_exporter": "python",
   "pygments_lexer": "ipython3",
   "version": "3.11.5"
  }
 },
 "nbformat": 4,
 "nbformat_minor": 5
}
