{
 "cells": [
  {
   "cell_type": "markdown",
   "id": "3f50fcb7",
   "metadata": {},
   "source": [
    "## Question 1"
   ]
  },
  {
   "cell_type": "code",
   "execution_count": 20,
   "id": "00312633",
   "metadata": {},
   "outputs": [
    {
     "name": "stdout",
     "output_type": "stream",
     "text": [
      "The value of y at t is: 0.01845769414541351\n"
     ]
    },
    {
     "ename": "TypeError",
     "evalue": "unsupported operand type(s) for -: 'list' and 'int'",
     "output_type": "error",
     "traceback": [
      "\u001b[1;31m---------------------------------------------------------------------------\u001b[0m",
      "\u001b[1;31mTypeError\u001b[0m                                 Traceback (most recent call last)",
      "Cell \u001b[1;32mIn[20], line 38\u001b[0m\n\u001b[0;32m     36\u001b[0m \u001b[38;5;28;01mfrom\u001b[39;00m \u001b[38;5;21;01mmatplotlib\u001b[39;00m \u001b[38;5;28;01mimport\u001b[39;00m pyplot \u001b[38;5;28;01mas\u001b[39;00m plt \u001b[38;5;66;03m#import only certain part of the library\u001b[39;00m\n\u001b[0;32m     37\u001b[0m t \u001b[38;5;241m=\u001b[39m \u001b[38;5;28mlist\u001b[39m(\u001b[38;5;28mrange\u001b[39m(\u001b[38;5;241m0\u001b[39m,\u001b[38;5;241m2\u001b[39m)) \u001b[38;5;66;03m#output will be 0 to 2\u001b[39;00m\n\u001b[1;32m---> 38\u001b[0m y\u001b[38;5;241m=\u001b[39m rungeKutta(t0, y, t, h)\n\u001b[0;32m     39\u001b[0m \u001b[38;5;28;01mfor\u001b[39;00m num \u001b[38;5;129;01min\u001b[39;00m t:\n\u001b[0;32m     41\u001b[0m  plt\u001b[38;5;241m.\u001b[39mplot(x,y, color\u001b[38;5;241m=\u001b[39m\u001b[38;5;124m'\u001b[39m\u001b[38;5;124mpink\u001b[39m\u001b[38;5;124m'\u001b[39m)\n",
      "Cell \u001b[1;32mIn[20], line 11\u001b[0m, in \u001b[0;36mrungeKutta\u001b[1;34m(t0, y0, t, h)\u001b[0m\n\u001b[0;32m      8\u001b[0m \u001b[38;5;28;01mdef\u001b[39;00m \u001b[38;5;21mrungeKutta\u001b[39m(t0, y0, t, h):\n\u001b[0;32m      9\u001b[0m     \u001b[38;5;66;03m# Count number of iterations using step size or\u001b[39;00m\n\u001b[0;32m     10\u001b[0m     \u001b[38;5;66;03m# step height\u001b[39;00m\n\u001b[1;32m---> 11\u001b[0m     n \u001b[38;5;241m=\u001b[39m \u001b[38;5;28mint\u001b[39m((t \u001b[38;5;241m-\u001b[39m t0)\u001b[38;5;241m/\u001b[39mh)\n\u001b[0;32m     12\u001b[0m     \u001b[38;5;66;03m# Iterate for number of iterations\u001b[39;00m\n\u001b[0;32m     13\u001b[0m     y \u001b[38;5;241m=\u001b[39m y0\n",
      "\u001b[1;31mTypeError\u001b[0m: unsupported operand type(s) for -: 'list' and 'int'"
     ]
    }
   ],
   "source": [
    "# Python program to implement Runge Kutta method\n",
    "# A sample differential equation \"dy / dt = (-2yt)\"\n",
    "def dydt(y, t):\n",
    "    return ((-2*y*t))\n",
    "\n",
    "# Finds value of y for a given t using step size h\n",
    "# and initial value y0 at t0.\n",
    "def rungeKutta(t0, y0, t, h):\n",
    "    # Count number of iterations using step size or\n",
    "    # step height\n",
    "    n = int((t - t0)/h)\n",
    "    # Iterate for number of iterations\n",
    "    y = y0\n",
    "    for i in range(1, n + 1):\n",
    "        # Apply Runge Kutta Formulas to find next value of y\n",
    "        k1 = h * dydt(t0, y)\n",
    "        k2 = h * dydt(t0 + 0.5 * h, y + 0.5 * k1)\n",
    "        k3 = h * dydt(t0 + 0.5 * h, y + 0.5 * k2)\n",
    "        k4 = h * dydt(t0 + h, y + k3)\n",
    "        \n",
    "        # Update next value of y\n",
    "        y = y + (1.0 / 6.0)*(k1 + 2 * k2 + 2 * k3 + k4)\n",
    "        \n",
    "        # Update next value of t\n",
    "        t0 = t0 + h\n",
    "    return y\n",
    "\n",
    "# Driver method\n",
    "t0 = 0\n",
    "y = 1\n",
    "t = 2\n",
    "h = 0.2\n",
    "print('The value of y at t is:', rungeKutta(t0, y, t, h))\n",
    "\n",
    "import math #import the entire library\n",
    "from matplotlib import pyplot as plt #import only certain part of the library\n",
    "t = list(range(0,2)) #output will be 0 to 2\n",
    "y= rungeKutta(t0, y, t, h)\n",
    "for num in t:\n",
    "\n",
    " plt.plot(x,y, color='pink')\n",
    "plt.title('Solving ODE')\n",
    "plt.xlabel(\"t values from 0 to 2\")\n",
    "plt.ylabel(\"y(t)\")\n",
    "plt.show()\n"
   ]
  },
  {
   "cell_type": "markdown",
   "id": "1285e89a",
   "metadata": {},
   "source": [
    "## Question 2"
   ]
  },
  {
   "cell_type": "code",
   "execution_count": 1,
   "id": "54f9fd88",
   "metadata": {},
   "outputs": [
    {
     "name": "stdout",
     "output_type": "stream",
     "text": [
      "[[2 4 6]\n",
      " [5 3 2]\n",
      " [7 8 9]]\n",
      "[[18]\n",
      " [13]\n",
      " [30]]\n",
      "[[ 4.5]\n",
      " [-7.5]\n",
      " [ 6.5]]\n",
      "[[ 4.5]\n",
      " [-7.5]\n",
      " [ 6.5]]\n"
     ]
    }
   ],
   "source": [
    "# Import necessary libraries\n",
    "import numpy as np\n",
    "import scipy as sc\n",
    "# Define the coefficient matrix A\n",
    "A = np.array([[2, 4, 6], [5, 3, 2], [7, 8, 9]])\n",
    "print(A)\n",
    "# Define the right-hand side vector b\n",
    "b = np.array([[18], [13], [30]])\n",
    "print(b)\n",
    "# Calculate the inverse of A and multiply by b to find the solution vector\n",
    "C = sc.linalg.inv(A).dot(b)\n",
    "print(C)\n",
    "# Alternatively, use the solve function to find the solution vector directly\n",
    "D = sc.linalg.solve(A, b)\n",
    "print(D)\n",
    "\n"
   ]
  },
  {
   "cell_type": "markdown",
   "id": "9edb7c8a",
   "metadata": {},
   "source": [
    "## Question 3"
   ]
  },
  {
   "cell_type": "code",
   "execution_count": 15,
   "id": "0703adcb",
   "metadata": {},
   "outputs": [
    {
     "ename": "SyntaxError",
     "evalue": "invalid syntax (2798358627.py, line 39)",
     "output_type": "error",
     "traceback": [
      "\u001b[1;36m  Cell \u001b[1;32mIn[15], line 39\u001b[1;36m\u001b[0m\n\u001b[1;33m    else\u001b[0m\n\u001b[1;37m    ^\u001b[0m\n\u001b[1;31mSyntaxError\u001b[0m\u001b[1;31m:\u001b[0m invalid syntax\n"
     ]
    }
   ],
   "source": [
    "import json\n",
    "import requests\n",
    "\n",
    "# Function to get the population of a state\n",
    "def get_population(number_days, dataset):\n",
    "    for days in dataset:\n",
    "        if days['days'] == number_days:\n",
    "            return state['temperature']\n",
    "    return None\n",
    "\n",
    "# Function to load the dataset from a JSON file or URL\n",
    "def load_dataset(data_source):\n",
    "    if data_source.startswith('http'):\n",
    "        response = requests.get(data_source)\n",
    "        dataset = response.json()\n",
    "    else:\n",
    "        with open(data_source, 'r') as file:\n",
    "            dataset = json.load(file)\n",
    "    return dataset\n",
    "\n",
    "# Main function\n",
    "def main():\n",
    "    # Provide the path or URL to your dataset JSON file\n",
    "    dataset_source1= \"https://api.open-meteo.com/v1/forecast?.json\"  # Replace with your actual file path or URL\n",
    "    dataset_source2=\"latitude=2.5&longitude=112.5&hourly=temperature_2m&timezone=Asia%2FSingapore&forecast_days=1.json\"\n",
    "\n",
    "\n",
    "\n",
    "    # Load the dataset\n",
    "    state_dataset = load_dataset(dataset_source)\n",
    "\n",
    "    while True:\n",
    "        # Get user input\n",
    "        number_days = input(\"Enter the number of days(1 until 16 only) (type 'quit' to exit): \")\n",
    "\n",
    "        # Check for exit condition\n",
    "        if number_days.lower() > '16':\n",
    "            print(\"Read the instruction and check your input\")\n",
    "            else\n",
    "                 break\n",
    "\n",
    "        # Get the temperature\n",
    "        temperature = get_temperature(number_days, state_dataset)\n",
    "\n",
    "        # Display the result\n",
    "        if temperature is not None:\n",
    "            print(f\"Temperature of day {number_days}: {temperature}\")\n",
    "        else\n",
    "            print(f\"Day {number_days} is not found in the data.\")\n",
    "\n",
    "# Run the script\n",
    "if __name__ == \"__main__\":\n",
    "    main()\n",
    "    \n",
    "import math #import the entire library\n",
    "from matplotlib import pyplot as plt #import only certain part of the library\n",
    "x = list(range(1,16)) #output will be 0 to 16\n",
    "y= temperature\n",
    "\n",
    "plt.plot(x,y, color='pink')\n",
    "plt.title('')\n",
    "plt.xlabel(\"Numbers of forecast days\")\n",
    "plt.ylabel(\"Hourly temperature data\")\n",
    "plt.show()\n"
   ]
  },
  {
   "cell_type": "code",
   "execution_count": null,
   "id": "14fdf177",
   "metadata": {},
   "outputs": [],
   "source": []
  }
 ],
 "metadata": {
  "kernelspec": {
   "display_name": "Python 3 (ipykernel)",
   "language": "python",
   "name": "python3"
  },
  "language_info": {
   "codemirror_mode": {
    "name": "ipython",
    "version": 3
   },
   "file_extension": ".py",
   "mimetype": "text/x-python",
   "name": "python",
   "nbconvert_exporter": "python",
   "pygments_lexer": "ipython3",
   "version": "3.11.5"
  }
 },
 "nbformat": 4,
 "nbformat_minor": 5
}
